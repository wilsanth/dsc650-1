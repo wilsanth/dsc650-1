{
 "cells": [
  {
   "cell_type": "code",
   "execution_count": 1,
   "metadata": {},
   "outputs": [],
   "source": [
    "from keras.datasets import reuters\n",
    "(train_data, train_labels), (test_data, test_labels) = reuters.load_data(num_words = 10000)"
   ]
  },
  {
   "cell_type": "code",
   "execution_count": 2,
   "metadata": {},
   "outputs": [
    {
     "data": {
      "text/plain": [
       "8982"
      ]
     },
     "execution_count": 2,
     "metadata": {},
     "output_type": "execute_result"
    }
   ],
   "source": [
    "len(train_data)"
   ]
  },
  {
   "cell_type": "code",
   "execution_count": 3,
   "metadata": {},
   "outputs": [
    {
     "data": {
      "text/plain": [
       "2246"
      ]
     },
     "execution_count": 3,
     "metadata": {},
     "output_type": "execute_result"
    }
   ],
   "source": [
    "len(test_data)"
   ]
  },
  {
   "cell_type": "code",
   "execution_count": 4,
   "metadata": {},
   "outputs": [
    {
     "name": "stdout",
     "output_type": "stream",
     "text": [
      "[1, 245, 273, 207, 156, 53, 74, 160, 26, 14, 46, 296, 26, 39, 74, 2979, 3554, 14, 46, 4689, 4329, 86, 61, 3499, 4795, 14, 61, 451, 4329, 17, 12]\n"
     ]
    }
   ],
   "source": [
    "print(train_data[10])"
   ]
  },
  {
   "cell_type": "code",
   "execution_count": 10,
   "metadata": {},
   "outputs": [],
   "source": [
    "word_index = reuters.get_word_index()\n",
    "reverse_word_index = dict([(value, key) for (key,value) in word_index.items()])\n",
    "decoded_newswire = ' '.join([reverse_word_index.get(i-3, '?') for i in train_data[0]])\n"
   ]
  },
  {
   "cell_type": "code",
   "execution_count": 11,
   "metadata": {},
   "outputs": [
    {
     "data": {
      "text/plain": [
       "'? ? ? said as a result of its december acquisition of space co it expects earnings per share in 1987 of 1 15 to 1 30 dlrs per share up from 70 cts in 1986 the company said pretax net should rise to nine to 10 mln dlrs from six mln dlrs in 1986 and rental operation revenues to 19 to 22 mln dlrs from 12 5 mln dlrs it said cash flow per share this year should be 2 50 to three dlrs reuter 3'"
      ]
     },
     "execution_count": 11,
     "metadata": {},
     "output_type": "execute_result"
    }
   ],
   "source": [
    "decoded_newswire"
   ]
  },
  {
   "cell_type": "code",
   "execution_count": 13,
   "metadata": {},
   "outputs": [],
   "source": [
    "import numpy as np\n",
    "\n",
    "def vectorize_sequences(sequences,dimension=10000):\n",
    "    results = np.zeros((len(sequences), dimension))\n",
    "    for i, sequence in enumerate(sequences):\n",
    "        results[i, sequence] = 1\n",
    "    return results"
   ]
  },
  {
   "cell_type": "code",
   "execution_count": 14,
   "metadata": {},
   "outputs": [
    {
     "name": "stdout",
     "output_type": "stream",
     "text": [
      "[0. 1. 1. ... 0. 0. 0.]\n"
     ]
    }
   ],
   "source": [
    "x_train = vectorize_sequences(train_data)\n",
    "print(x_train[0])"
   ]
  },
  {
   "cell_type": "code",
   "execution_count": 15,
   "metadata": {},
   "outputs": [
    {
     "name": "stdout",
     "output_type": "stream",
     "text": [
      "[0. 1. 1. ... 0. 0. 0.]\n"
     ]
    }
   ],
   "source": [
    "x_test = vectorize_sequences(test_data)\n",
    "print(x_test[0])"
   ]
  },
  {
   "cell_type": "code",
   "execution_count": 20,
   "metadata": {},
   "outputs": [],
   "source": [
    "def to_one_hot(labels, dimension=46):\n",
    "    results = np.zeros((len(labels), dimension))\n",
    "    for i, label in enumerate(labels):\n",
    "        results[i,label] = 1\n",
    "    return results"
   ]
  },
  {
   "cell_type": "code",
   "execution_count": 23,
   "metadata": {},
   "outputs": [],
   "source": [
    "one_hot_train_labels = to_one_hot(train_labels)\n",
    "one_hot_test_labels = to_one_hot(test_labels)"
   ]
  },
  {
   "cell_type": "code",
   "execution_count": 24,
   "metadata": {},
   "outputs": [
    {
     "data": {
      "text/plain": [
       "array([[0., 0., 0., ..., 0., 0., 0.],\n",
       "       [0., 0., 0., ..., 0., 0., 0.],\n",
       "       [0., 0., 0., ..., 0., 0., 0.],\n",
       "       ...,\n",
       "       [0., 0., 0., ..., 0., 0., 0.],\n",
       "       [0., 0., 0., ..., 0., 0., 0.],\n",
       "       [0., 0., 0., ..., 0., 0., 0.]])"
      ]
     },
     "execution_count": 24,
     "metadata": {},
     "output_type": "execute_result"
    }
   ],
   "source": [
    "one_hot_train_labels"
   ]
  },
  {
   "cell_type": "code",
   "execution_count": 26,
   "metadata": {},
   "outputs": [
    {
     "data": {
      "text/plain": [
       "array([[0., 0., 0., ..., 0., 0., 0.],\n",
       "       [0., 0., 0., ..., 0., 0., 0.],\n",
       "       [0., 1., 0., ..., 0., 0., 0.],\n",
       "       ...,\n",
       "       [0., 0., 0., ..., 0., 0., 0.],\n",
       "       [0., 0., 0., ..., 0., 0., 0.],\n",
       "       [0., 0., 0., ..., 0., 0., 0.]], dtype=float32)"
      ]
     },
     "execution_count": 26,
     "metadata": {},
     "output_type": "execute_result"
    }
   ],
   "source": [
    "one_hot_test_labels"
   ]
  },
  {
   "cell_type": "code",
   "execution_count": 27,
   "metadata": {},
   "outputs": [],
   "source": [
    "from keras.utils.np_utils import to_categorical\n",
    "\n",
    "one_hot_train_labels = to_categorical(train_labels)\n",
    "one_hot_test_labels = to_categorical(test_labels)"
   ]
  },
  {
   "cell_type": "code",
   "execution_count": 29,
   "metadata": {},
   "outputs": [
    {
     "data": {
      "text/plain": [
       "array([[0., 0., 0., ..., 0., 0., 0.],\n",
       "       [0., 0., 0., ..., 0., 0., 0.],\n",
       "       [0., 0., 0., ..., 0., 0., 0.],\n",
       "       ...,\n",
       "       [0., 0., 0., ..., 0., 0., 0.],\n",
       "       [0., 0., 0., ..., 0., 0., 0.],\n",
       "       [0., 0., 0., ..., 0., 0., 0.]], dtype=float32)"
      ]
     },
     "execution_count": 29,
     "metadata": {},
     "output_type": "execute_result"
    }
   ],
   "source": [
    "one_hot_train_labels"
   ]
  },
  {
   "cell_type": "code",
   "execution_count": 30,
   "metadata": {},
   "outputs": [
    {
     "data": {
      "text/plain": [
       "array([[0., 0., 0., ..., 0., 0., 0.],\n",
       "       [0., 0., 0., ..., 0., 0., 0.],\n",
       "       [0., 1., 0., ..., 0., 0., 0.],\n",
       "       ...,\n",
       "       [0., 0., 0., ..., 0., 0., 0.],\n",
       "       [0., 0., 0., ..., 0., 0., 0.],\n",
       "       [0., 0., 0., ..., 0., 0., 0.]], dtype=float32)"
      ]
     },
     "execution_count": 30,
     "metadata": {},
     "output_type": "execute_result"
    }
   ],
   "source": [
    "one_hot_test_labels\n"
   ]
  },
  {
   "cell_type": "code",
   "execution_count": 31,
   "metadata": {},
   "outputs": [],
   "source": [
    "from keras import models, layers\n",
    "\n",
    "model = models.Sequential()\n",
    "model.add(layers.Dense(64, activation = 'relu', input_shape=(10000,)))\n",
    "model.add(layers.Dense(64, activation = 'relu'))\n",
    "model.add(layers.Dense(46, activation = 'softmax'))"
   ]
  },
  {
   "cell_type": "code",
   "execution_count": 32,
   "metadata": {},
   "outputs": [],
   "source": [
    "model.compile(optimizer = 'rmsprop', \n",
    "             loss = 'categorical_crossentropy', \n",
    "             metrics = ['accuracy'])"
   ]
  },
  {
   "cell_type": "code",
   "execution_count": 33,
   "metadata": {},
   "outputs": [],
   "source": [
    "x_val = x_train[:1000]\n",
    "partial_x_train = x_train[1000:]"
   ]
  },
  {
   "cell_type": "code",
   "execution_count": 34,
   "metadata": {},
   "outputs": [],
   "source": [
    "y_val = one_hot_train_labels[:1000]\n",
    "partial_y_train = one_hot_train_labels[1000:]"
   ]
  },
  {
   "cell_type": "code",
   "execution_count": 37,
   "metadata": {},
   "outputs": [
    {
     "name": "stdout",
     "output_type": "stream",
     "text": [
      "Epoch 1/20\n",
      "16/16 [==============================] - 1s 27ms/step - loss: 2.6313 - accuracy: 0.5103 - val_loss: 1.7404 - val_accuracy: 0.6420\n",
      "Epoch 2/20\n",
      "16/16 [==============================] - 0s 14ms/step - loss: 1.4238 - accuracy: 0.7077 - val_loss: 1.2896 - val_accuracy: 0.7270\n",
      "Epoch 3/20\n",
      "16/16 [==============================] - 0s 14ms/step - loss: 1.0549 - accuracy: 0.7823 - val_loss: 1.1348 - val_accuracy: 0.7580\n",
      "Epoch 4/20\n",
      "16/16 [==============================] - 0s 14ms/step - loss: 0.8394 - accuracy: 0.8237 - val_loss: 1.0330 - val_accuracy: 0.7860\n",
      "Epoch 5/20\n",
      "16/16 [==============================] - 0s 14ms/step - loss: 0.6790 - accuracy: 0.8583 - val_loss: 0.9901 - val_accuracy: 0.7840\n",
      "Epoch 6/20\n",
      "16/16 [==============================] - 0s 14ms/step - loss: 0.5458 - accuracy: 0.8895 - val_loss: 0.9530 - val_accuracy: 0.8020\n",
      "Epoch 7/20\n",
      "16/16 [==============================] - 0s 14ms/step - loss: 0.4508 - accuracy: 0.9078 - val_loss: 0.9079 - val_accuracy: 0.8080\n",
      "Epoch 8/20\n",
      "16/16 [==============================] - 0s 14ms/step - loss: 0.3687 - accuracy: 0.9214 - val_loss: 0.8981 - val_accuracy: 0.8120\n",
      "Epoch 9/20\n",
      "16/16 [==============================] - 0s 14ms/step - loss: 0.3030 - accuracy: 0.9337 - val_loss: 0.9162 - val_accuracy: 0.8060\n",
      "Epoch 10/20\n",
      "16/16 [==============================] - 0s 14ms/step - loss: 0.2561 - accuracy: 0.9411 - val_loss: 0.9044 - val_accuracy: 0.8060\n",
      "Epoch 11/20\n",
      "16/16 [==============================] - 0s 14ms/step - loss: 0.2203 - accuracy: 0.9483 - val_loss: 0.9331 - val_accuracy: 0.8040\n",
      "Epoch 12/20\n",
      "16/16 [==============================] - 0s 14ms/step - loss: 0.1928 - accuracy: 0.9521 - val_loss: 0.9729 - val_accuracy: 0.8040\n",
      "Epoch 13/20\n",
      "16/16 [==============================] - 0s 14ms/step - loss: 0.1693 - accuracy: 0.9531 - val_loss: 0.9520 - val_accuracy: 0.8090\n",
      "Epoch 14/20\n",
      "16/16 [==============================] - 0s 14ms/step - loss: 0.1575 - accuracy: 0.9528 - val_loss: 0.9740 - val_accuracy: 0.8120\n",
      "Epoch 15/20\n",
      "16/16 [==============================] - 0s 14ms/step - loss: 0.1457 - accuracy: 0.9551 - val_loss: 0.9849 - val_accuracy: 0.8100\n",
      "Epoch 16/20\n",
      "16/16 [==============================] - 0s 14ms/step - loss: 0.1396 - accuracy: 0.9573 - val_loss: 1.0580 - val_accuracy: 0.8050\n",
      "Epoch 17/20\n",
      "16/16 [==============================] - 0s 14ms/step - loss: 0.1272 - accuracy: 0.9568 - val_loss: 1.0556 - val_accuracy: 0.7960\n",
      "Epoch 18/20\n",
      "16/16 [==============================] - 0s 15ms/step - loss: 0.1228 - accuracy: 0.9575 - val_loss: 1.0467 - val_accuracy: 0.7970\n",
      "Epoch 19/20\n",
      "16/16 [==============================] - 0s 14ms/step - loss: 0.1163 - accuracy: 0.9593 - val_loss: 1.0497 - val_accuracy: 0.8050\n",
      "Epoch 20/20\n",
      "16/16 [==============================] - 0s 13ms/step - loss: 0.1122 - accuracy: 0.9599 - val_loss: 1.0927 - val_accuracy: 0.8180\n"
     ]
    }
   ],
   "source": [
    "history = model.fit(partial_x_train, \n",
    "                   partial_y_train, \n",
    "                   epochs = 20, \n",
    "                   batch_size = 512, \n",
    "                   validation_data = (x_val, y_val))"
   ]
  },
  {
   "cell_type": "code",
   "execution_count": 43,
   "metadata": {},
   "outputs": [
    {
     "data": {
      "image/png": "[encoded data removed]",
      "text/plain": [
       "<Figure size 432x288 with 1 Axes>"
      ]
     },
     "metadata": {
      "needs_background": "light"
     },
     "output_type": "display_data"
    },
    {
     "data": {
      "text/plain": [
       "<Figure size 432x288 with 0 Axes>"
      ]
     },
     "metadata": {},
     "output_type": "display_data"
    }
   ],
   "source": [
    "import matplotlib.pyplot as plt\n",
    "\n",
    "loss = history.history['loss']\n",
    "val_loss = history.history['val_loss']\n",
    "\n",
    "epochs = range(1, len(loss) + 1)\n",
    "\n",
    "plt.plot(epochs, loss, 'bo', label = 'Training loss')\n",
    "plt.plot(epochs, val_loss, 'b', label = 'Validation loss')\n",
    "plt.xlabel('Epochs')\n",
    "plt.ylabel('Loss')\n",
    "\n",
    "plt.show()"
   ]
  },
  {
   "cell_type": "code",
   "execution_count": 51,
   "metadata": {},
   "outputs": [
    {
     "data": {
      "image/png": "[encoded data removed]",
      "text/plain": [
       "<Figure size 432x288 with 1 Axes>"
      ]
     },
     "metadata": {
      "needs_background": "light"
     },
     "output_type": "display_data"
    }
   ],
   "source": [
    "plt.clf()\n",
    "acc = history.history['accuracy']\n",
    "val_acc = history.history['val_accuracy']\n",
    "\n",
    "plt.plot(epochs,acc, 'bo', label = 'Training acc')\n",
    "plt.plot(epochs, val_acc, 'b', label = 'Validation acc')\n",
    "plt.title('Training and validation accuracy')\n",
    "plt.xlabel('Epochs')\n",
    "plt.ylabel('Accuracy')\n",
    "plt.legend()\n",
    "\n",
    "plt.show()"
   ]
  },
  {
   "cell_type": "code",
   "execution_count": 52,
   "metadata": {},
   "outputs": [],
   "source": [
    "model = models.Sequential()\n",
    "model.add(layers.Dense(64, activation = 'relu', input_shape = (10000,)))\n",
    "model.add(layers.Dense(64, activation = 'relu'))\n",
    "model.add(layers.Dense(46, activation = 'softmax'))"
   ]
  },
  {
   "cell_type": "code",
   "execution_count": 55,
   "metadata": {},
   "outputs": [],
   "source": [
    "model.compile(optimizer = 'rmsprop',\n",
    "             loss = 'categorical_crossentropy', \n",
    "             metrics = ['accuracy'])"
   ]
  },
  {
   "cell_type": "code",
   "execution_count": 56,
   "metadata": {},
   "outputs": [
    {
     "name": "stdout",
     "output_type": "stream",
     "text": [
      "Epoch 1/9\n",
      "16/16 [==============================] - 1s 23ms/step - loss: 2.5721 - accuracy: 0.5113 - val_loss: 1.6882 - val_accuracy: 0.6470\n",
      "Epoch 2/9\n",
      "16/16 [==============================] - 0s 15ms/step - loss: 1.3647 - accuracy: 0.7097 - val_loss: 1.2673 - val_accuracy: 0.7140\n",
      "Epoch 3/9\n",
      "16/16 [==============================] - 0s 14ms/step - loss: 1.0177 - accuracy: 0.7760 - val_loss: 1.1176 - val_accuracy: 0.7490\n",
      "Epoch 4/9\n",
      "16/16 [==============================] - 0s 14ms/step - loss: 0.8020 - accuracy: 0.8275 - val_loss: 1.0039 - val_accuracy: 0.7880\n",
      "Epoch 5/9\n",
      "16/16 [==============================] - 0s 14ms/step - loss: 0.6365 - accuracy: 0.8661 - val_loss: 1.0142 - val_accuracy: 0.7670\n",
      "Epoch 6/9\n",
      "16/16 [==============================] - 0s 14ms/step - loss: 0.5105 - accuracy: 0.8935 - val_loss: 0.9067 - val_accuracy: 0.8060\n",
      "Epoch 7/9\n",
      "16/16 [==============================] - 0s 14ms/step - loss: 0.4076 - accuracy: 0.9171 - val_loss: 0.8788 - val_accuracy: 0.8170\n",
      "Epoch 8/9\n",
      "16/16 [==============================] - 0s 14ms/step - loss: 0.3355 - accuracy: 0.9292 - val_loss: 0.8736 - val_accuracy: 0.8210\n",
      "Epoch 9/9\n",
      "16/16 [==============================] - 0s 13ms/step - loss: 0.2763 - accuracy: 0.9377 - val_loss: 0.8820 - val_accuracy: 0.8140\n",
      "71/71 [==============================] - 0s 1ms/step - loss: 1.0079 - accuracy: 0.7814\n"
     ]
    }
   ],
   "source": [
    "model.fit(partial_x_train, \n",
    "         partial_y_train, \n",
    "         epochs = 9, \n",
    "         batch_size = 512, \n",
    "         validation_data = (x_val, y_val))\n",
    "results = model.evaluate(x_test, one_hot_test_labels)"
   ]
  },
  {
   "cell_type": "code",
   "execution_count": 59,
   "metadata": {},
   "outputs": [
    {
     "data": {
      "text/plain": [
       "[1.0079331398010254, 0.7813891172409058]"
      ]
     },
     "execution_count": 59,
     "metadata": {},
     "output_type": "execute_result"
    }
   ],
   "source": [
    "results"
   ]
  },
  {
   "cell_type": "code",
   "execution_count": 63,
   "metadata": {},
   "outputs": [
    {
     "data": {
      "text/plain": [
       "0.19367764915405164"
      ]
     },
     "execution_count": 63,
     "metadata": {},
     "output_type": "execute_result"
    }
   ],
   "source": [
    "import copy\n",
    "test_labels_copy = copy.copy(test_labels)\n",
    "np.random.shuffle(test_labels_copy)\n",
    "hits_array = np.array(test_labels) == np.array(test_labels_copy)\n",
    "float(np.sum(hits_array)) / len(test_labels)"
   ]
  },
  {
   "cell_type": "code",
   "execution_count": 64,
   "metadata": {},
   "outputs": [
    {
     "data": {
      "text/plain": [
       "(46,)"
      ]
     },
     "execution_count": 64,
     "metadata": {},
     "output_type": "execute_result"
    }
   ],
   "source": [
    "predictions = model.predict(x_test)\n",
    "predictions[0].shape"
   ]
  },
  {
   "cell_type": "code",
   "execution_count": 65,
   "metadata": {},
   "outputs": [
    {
     "data": {
      "text/plain": [
       "1.0000001"
      ]
     },
     "execution_count": 65,
     "metadata": {},
     "output_type": "execute_result"
    }
   ],
   "source": [
    "np.sum(predictions[0])"
   ]
  },
  {
   "cell_type": "code",
   "execution_count": 66,
   "metadata": {},
   "outputs": [
    {
     "data": {
      "text/plain": [
       "3"
      ]
     },
     "execution_count": 66,
     "metadata": {},
     "output_type": "execute_result"
    }
   ],
   "source": [
    "np.argmax(predictions[0])"
   ]
  },
  {
   "cell_type": "code",
   "execution_count": 67,
   "metadata": {},
   "outputs": [],
   "source": [
    "y_train = np.array(train_labels)\n",
    "y_test = np.array(test_labels)"
   ]
  },
  {
   "cell_type": "code",
   "execution_count": 70,
   "metadata": {},
   "outputs": [],
   "source": [
    "model.compile(optimizer = 'rmsprop', \n",
    "             loss = 'sparse_categorical_crossentropy', \n",
    "             metrics = ['acc'])"
   ]
  },
  {
   "cell_type": "code",
   "execution_count": 74,
   "metadata": {},
   "outputs": [],
   "source": [
    "model = models.Sequential()\n",
    "model.add(layers.Dense(64, activation = 'relu', input_shape=(10000,)))\n",
    "model.add(layers.Dense(4, activation = 'relu'))\n",
    "model.add(layers.Dense(46, activation = 'softmax'))"
   ]
  },
  {
   "cell_type": "code",
   "execution_count": 75,
   "metadata": {},
   "outputs": [],
   "source": [
    "model.compile(optimizer = 'rmsprop', \n",
    "              loss = 'categorical_crossentropy', \n",
    "              metrics = ['accuracy'])"
   ]
  },
  {
   "cell_type": "code",
   "execution_count": 76,
   "metadata": {},
   "outputs": [
    {
     "name": "stdout",
     "output_type": "stream",
     "text": [
      "Epoch 1/20\n",
      "63/63 [==============================] - 1s 10ms/step - loss: 3.1490 - accuracy: 0.2046 - val_loss: 2.4994 - val_accuracy: 0.4860\n",
      "Epoch 2/20\n",
      "63/63 [==============================] - 0s 8ms/step - loss: 2.0381 - accuracy: 0.5466 - val_loss: 1.8140 - val_accuracy: 0.5610\n",
      "Epoch 3/20\n",
      "63/63 [==============================] - 0s 7ms/step - loss: 1.6364 - accuracy: 0.5633 - val_loss: 1.6614 - val_accuracy: 0.5530\n",
      "Epoch 4/20\n",
      "63/63 [==============================] - 0s 7ms/step - loss: 1.4746 - accuracy: 0.5654 - val_loss: 1.5867 - val_accuracy: 0.5510\n",
      "Epoch 5/20\n",
      "63/63 [==============================] - 0s 7ms/step - loss: 1.3364 - accuracy: 0.5843 - val_loss: 1.5079 - val_accuracy: 0.5680\n",
      "Epoch 6/20\n",
      "63/63 [==============================] - 0s 7ms/step - loss: 1.2163 - accuracy: 0.6441 - val_loss: 1.4480 - val_accuracy: 0.6330\n",
      "Epoch 7/20\n",
      "63/63 [==============================] - 0s 7ms/step - loss: 1.1177 - accuracy: 0.6878 - val_loss: 1.4338 - val_accuracy: 0.6410\n",
      "Epoch 8/20\n",
      "63/63 [==============================] - 0s 7ms/step - loss: 1.0442 - accuracy: 0.6958 - val_loss: 1.4313 - val_accuracy: 0.6470\n",
      "Epoch 9/20\n",
      "63/63 [==============================] - 0s 7ms/step - loss: 0.9850 - accuracy: 0.7066 - val_loss: 1.4427 - val_accuracy: 0.6500\n",
      "Epoch 10/20\n",
      "63/63 [==============================] - 0s 7ms/step - loss: 0.9355 - accuracy: 0.7206 - val_loss: 1.4528 - val_accuracy: 0.6520\n",
      "Epoch 11/20\n",
      "63/63 [==============================] - 0s 8ms/step - loss: 0.8896 - accuracy: 0.7437 - val_loss: 1.4602 - val_accuracy: 0.6670\n",
      "Epoch 12/20\n",
      "63/63 [==============================] - 0s 7ms/step - loss: 0.8483 - accuracy: 0.7563 - val_loss: 1.4919 - val_accuracy: 0.6740\n",
      "Epoch 13/20\n",
      "63/63 [==============================] - 0s 7ms/step - loss: 0.8154 - accuracy: 0.7650 - val_loss: 1.5224 - val_accuracy: 0.6690\n",
      "Epoch 14/20\n",
      "63/63 [==============================] - 0s 7ms/step - loss: 0.7845 - accuracy: 0.7716 - val_loss: 1.5127 - val_accuracy: 0.6740\n",
      "Epoch 15/20\n",
      "63/63 [==============================] - 0s 8ms/step - loss: 0.7567 - accuracy: 0.7829 - val_loss: 1.5770 - val_accuracy: 0.6700\n",
      "Epoch 16/20\n",
      "63/63 [==============================] - 0s 7ms/step - loss: 0.7319 - accuracy: 0.7895 - val_loss: 1.5814 - val_accuracy: 0.6780\n",
      "Epoch 17/20\n",
      "63/63 [==============================] - 0s 7ms/step - loss: 0.7117 - accuracy: 0.7933 - val_loss: 1.6094 - val_accuracy: 0.6720\n",
      "Epoch 18/20\n",
      "63/63 [==============================] - 0s 7ms/step - loss: 0.6895 - accuracy: 0.7949 - val_loss: 1.6729 - val_accuracy: 0.6730\n",
      "Epoch 19/20\n",
      "63/63 [==============================] - 0s 7ms/step - loss: 0.6728 - accuracy: 0.7972 - val_loss: 1.7004 - val_accuracy: 0.6690\n",
      "Epoch 20/20\n",
      "63/63 [==============================] - 0s 7ms/step - loss: 0.6569 - accuracy: 0.7998 - val_loss: 1.7439 - val_accuracy: 0.6690\n"
     ]
    },
    {
     "data": {
      "text/plain": [
       "<keras.callbacks.History at 0x23a30139f60>"
      ]
     },
     "execution_count": 76,
     "metadata": {},
     "output_type": "execute_result"
    }
   ],
   "source": [
    "model.fit(partial_x_train, \n",
    "         partial_y_train, \n",
    "         epochs = 20,\n",
    "         batch_size = 128, \n",
    "         validation_data = (x_val, y_val))"
   ]
  },
  {
   "cell_type": "code",
   "execution_count": null,
   "metadata": {},
   "outputs": [],
   "source": []
  }
 ],
 "metadata": {
  "kernelspec": {
   "display_name": "Python 3",
   "language": "python",
   "name": "python3"
  },
  "language_info": {
   "codemirror_mode": {
    "name": "ipython",
    "version": 3
   },
   "file_extension": ".py",
   "mimetype": "text/x-python",
   "name": "python",
   "nbconvert_exporter": "python",
   "pygments_lexer": "ipython3",
   "version": "3.6.10"
  }
 },
 "nbformat": 4,
 "nbformat_minor": 2
}
